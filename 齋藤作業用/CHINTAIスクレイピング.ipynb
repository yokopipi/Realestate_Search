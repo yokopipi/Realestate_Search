{
 "cells": [
  {
   "cell_type": "code",
   "execution_count": 39,
   "metadata": {},
   "outputs": [],
   "source": [
    "import requests\n",
    "import re\n",
    "from bs4 import BeautifulSoup\n",
    "import pandas as pd \n",
    "import numpy as np"
   ]
  },
  {
   "cell_type": "markdown",
   "metadata": {},
   "source": [
    "### ● 不動産の一つの物件から情報を取得する。"
   ]
  },
  {
   "cell_type": "code",
   "execution_count": 40,
   "metadata": {},
   "outputs": [],
   "source": [
    "base_url = \"https://www.chintai.net/list/?rt=50&prefKey=tokyo&mode=1&action=ohaza&prefKey=tokyo&g=13101&g=13102&g=13103&g=13104&g=13105&g=13109&g=13110&g=13111&g=13113&urlType=dynamic&cf=0&ct=0&k=1&jk=0&jl=0&sf=0&st=0&j=&h=99&b=1&b=2&b=3&jks=\"\n",
    "# とりあえず都心＆南部（東京都千代田区、東京都中央区、東京都港区、東京都新宿区、東京都文京区、東京都渋谷区、東京都品川区、東京都目黒区、東京都大田区、東京都世田谷区）で設定\n",
    "\n",
    "response = requests.get(base_url)\n",
    "soup     = BeautifulSoup(response.content, \"lxml\")\n",
    "items    = soup.find(class_=\"cassette_item build\")"
   ]
  },
  {
   "cell_type": "code",
   "execution_count": 41,
   "metadata": {},
   "outputs": [],
   "source": [
    "# スクレイピングした HTML情報出力\n",
    "f = open(\"test.txt\", \"w\")\n",
    "f.write(str(items))\n",
    "f.close()"
   ]
  },
  {
   "cell_type": "code",
   "execution_count": 49,
   "metadata": {},
   "outputs": [
    {
     "name": "stdout",
     "output_type": "stream",
     "text": [
      "物件名称 (Property Name): クリスタル自由が丘\n",
      "カテゴリー (Category): 賃貸ハイツ\n",
      "住所 (Address): 東京都目黒区緑が丘２丁目\n",
      "最寄り駅 (Nearest Stations): ['東急東横線/自由が丘駅 徒歩5分', '東急大井町線/緑が丘駅 徒歩11分', '東急目黒線/奥沢駅 徒歩10分']\n",
      "築年数 (Years Since Construction): 築38年\n",
      "階建 (Number of Floors): 2階建\n",
      "階数 (Floor Number): 2階\n",
      "賃料/管理費 (Rent/Administration Fee): 6.3万円 / 2,000円\n",
      "敷金/礼金 (Deposit/Key Money): 6.3万 / --\n",
      "間取り/占有面積 (Layout/Total Area): 1R / 15.52m²\n"
     ]
    }
   ],
   "source": [
    "# 各物件情報の取得\n",
    "property_name = items.find(class_=\"cassette_ttl ttl_main\").find('h2').contents[1].strip() if items.find(class_=\"cassette_ttl ttl_main\") else None\n",
    "category    = items.find('span', class_='icn_typeB').get_text() if items.find('span', class_='icn_typeB') else None\n",
    "# address_th = items.find('th', string='住所')\n",
    "address = address_th.find_next_sibling('td').get_text().replace('周辺地図', '').strip() if address_th and address_th.find_next_sibling('td') else None\n",
    "nearest_stations = [station.get_text(strip=True).replace('\\xa0', ' ') for station in items.find('th', class_='traffic').find_next_sibling('td').find_all('li')] if items.find('th', class_='traffic').find_next_sibling('td') else []\n",
    "years_since_const = re.search(r'(築\\d+年)', items.find('th', string='築年').find_next_sibling('td').get_text(strip=True)).group(1) if items.find('th', string='築年') else None\n",
    "number_of_floors = items.find('th', string='階建').find_next_sibling('td').get_text(strip=True) if items.find('th', string='階建') else None\n",
    "floor_number = items.find('td', class_='floar').find('li').get_text(strip=True) if items.find('td', class_='floar') else None\n",
    "rent_admin_fee = f\"{items.find('td', class_='price').find('span', class_='num').get_text(strip=True) + '万円'} / {items.find('td', class_='price').get_text(strip=True).split('円')[1]}円\" if items.find('td', class_='price') and items.find('td', class_='price').find('span', class_='num') else None\n",
    "deposit_gratuity = items.find('td', class_='other_price').get_text(separator=' / ', strip=True) if items.find('td', class_='other_price') else None\n",
    "layout_total_area = next(\n",
    "    (\n",
    "        f\"{layout} / {area}\"\n",
    "        for td in items.find_all('td', class_='clickArea')\n",
    "        if \"m²\" in (text := td.get_text(strip=True))\n",
    "        if (layout := re.search(r'^\\d*[A-Z]+', text)) and (area := re.search(r'\\d+\\.\\d+m²', text))\n",
    "        if (layout := layout.group(0)) and (area := area.group(0))\n",
    "    ),\n",
    "    None\n",
    ")\n",
    "\n",
    "\n",
    "\n",
    "# 各物件情報の表示\n",
    "print(\"物件名称 (Property Name):\", property_name)\n",
    "print(\"カテゴリー (Category):\", category)\n",
    "print(\"住所 (Address):\", address)\n",
    "print(\"最寄り駅 (Nearest Stations):\", nearest_stations)\n",
    "print(\"築年数 (Years Since Construction):\", years_since_const)\n",
    "print(\"階建 (Number of Floors):\", number_of_floors)\n",
    "print(\"階数 (Floor Number):\", floor_number)\n",
    "print(\"賃料/管理費 (Rent/Administration Fee):\", rent_admin_fee)\n",
    "print(\"敷金/礼金 (Deposit/Key Money):\", deposit_gratuity)\n",
    "print(\"間取り/占有面積 (Layout/Total Area):\", layout_total_area)"
   ]
  },
  {
   "cell_type": "code",
   "execution_count": 64,
   "metadata": {},
   "outputs": [
    {
     "name": "stdout",
     "output_type": "stream",
     "text": [
      "物件画像 URL (Property Image URL): https://img.chintai.net/awsorg/bk/1000/60/38/000000000716038/021/0000000007160380006_20240525114833732.JPG?interpolation=lanczos-none&resize=210:*\n",
      "間取り情報画像 URL (Floor Plan Image URL): https://img.chintai.net/awsorg/bk/1000/60/38/000000000716038/011/0000000007160380006_20240525114833351.JPG?interpolation=lanczos-none&resize=115:*\n",
      "物件リンク (Property Link): https://www.chintai.net/detail/bk-0000000360000000007160380006/?sidesFlg=1\n"
     ]
    }
   ],
   "source": [
    "# 物件画像・間取り画像・詳細URLの取得\n",
    "property_image_element = items.find(class_=\"photo_box picBox\")\n",
    "property_image_url = property_image_element.img[\"data-original\"] if property_image_element and property_image_element.img else None\n",
    "\n",
    "# URLを絶対パスに変換\n",
    "if property_image_url and property_image_url.startswith(\"//\"):\n",
    "    property_image_url = \"https:\" + property_image_url\n",
    "\n",
    "floor_plan_image_element = items.find(class_=\"plan-box\")\n",
    "floor_plan_image_url = floor_plan_image_element.img[\"data-original\"] if floor_plan_image_element and floor_plan_image_element.img else None\n",
    "\n",
    "# URLを絶対パスに変換\n",
    "if floor_plan_image_url and floor_plan_image_url.startswith(\"//\"):\n",
    "    floor_plan_image_url = \"https:\" + floor_plan_image_url\n",
    "\n",
    "# 物件リンクの抽出\n",
    "property_link_element = items.find('a', {'data-detailurl': True})\n",
    "property_link = property_link_element['data-detailurl'] if property_link_element else None\n",
    "\n",
    "# URLを絶対パスに変換\n",
    "if property_link and property_link.startswith(\"/\"):\n",
    "    property_link = \"https://www.chintai.net\" + property_link\n",
    "\n",
    "# # 物件画像・間取り画像・詳細URLの表示\n",
    "print(\"物件画像 URL (Property Image URL):\", property_image_url)\n",
    "print(\"間取り情報画像 URL (Floor Plan Image URL):\", floor_plan_image_url)\n",
    "print(\"物件リンク (Property Link):\", property_link)"
   ]
  },
  {
   "cell_type": "markdown",
   "metadata": {},
   "source": [
    "### ● 不動産の複数ページから情報を取得する。"
   ]
  },
  {
   "cell_type": "code",
   "execution_count": null,
   "metadata": {},
   "outputs": [],
   "source": [
    "# 基本URLと最大ページ数の設定\n",
    "base_url = \"https://www.chintai.net/list/?rt=50&prefKey=tokyo&mode=1&action=ohaza&prefKey=tokyo&g=13101&g=13102&g=13103&g=13104&g=13105&g=13109&g=13110&g=13111&g=13113&urlType=dynamic&cf=0&ct=0&k=1&jk=0&jl=0&sf=0&st=0&j=&h=99&b=1&b=2&b=3&jks=\"\n",
    "# とりあえず都心＆南部（東京都千代田区、東京都中央区、東京都港区、東京都新宿区、東京都文京区、東京都渋谷区、東京都品川区、東京都目黒区、東京都大田区、東京都世田谷区）で設定\n",
    "\n",
    "max_page = 5  # 最大ページ数\n",
    "\n",
    "all_data = []\n",
    "\n",
    "for page in range(1, max_page + 1):\n",
    "    url = base_url.format(page)\n",
    "    response = requests.get(url)\n",
    "    soup = BeautifulSoup(response.content, 'lxml')\n",
    "    items = soup.findAll(\"div\", {\"class\": \"cassette_item build\"})\n",
    "\n",
    "\n",
    "    print(\"page\", page, \"items\", len(items))\n",
    "\n",
    "    for item in items:\n",
    "        base_data = {}\n",
    "        base_data[\"名称\"]     = items.find(class_=\"cassette_ttl ttl_main\").find('h2').contents[1].strip() if items.find(class_=\"cassette_ttl ttl_main\") else None\n",
    "        base_data[\"カテゴリ\"] = items.find('span', class_='icn_typeB').get_text() if items.find('span', class_='icn_typeB') else None\n",
    "        base_data[\"アドレス\"] = \n",
    "        \n",
    "        # 駅のアクセス情報をまとめて取得\n",
    "        base_data[\"アクセス\"] = \", \".join([station.get_text(strip=True) for station in item.findAll(\"div\", {\"class\": \"cassetteitem_detail-text\"})])\n",
    "\n",
    "        construction_info = item.find(\"li\", {\"class\": \"cassetteitem_detail-col3\"}).find_all(\"div\") if item.find(\"li\", {\"class\": \"cassetteitem_detail-col3\"}) else None\n",
    "        base_data[\"築年数\"] = construction_info[0].get_text(strip=True) if construction_info and len(construction_info) > 0 else None\n",
    "        base_data[\"構造\"] = construction_info[1].get_text(strip=True) if construction_info and len(construction_info) > 1 else None\n",
    "\n",
    "        tbodys = item.find(\"table\", {\"class\": \"cassetteitem_other\"}).findAll(\"tbody\")\n",
    "\n",
    "        for tbody in tbodys:\n",
    "            data = base_data.copy()\n",
    "            # 階数情報の正確な取得\n",
    "            floor_info = tbody.find_all(\"td\")[2].get_text(strip=True) if len(tbody.find_all(\"td\")) > 2 else None\n",
    "            data[\"階数\"]   = floor_info\n",
    "            data[\"家賃\"]   = tbody.select_one(\".cassetteitem_price--rent\").get_text(strip=True) if tbody.select_one(\".cassetteitem_price--rent\") else None\n",
    "            data[\"管理費\"] = tbody.select_one(\".cassetteitem_price--administration\").get_text(strip=True) if tbody.select_one(\".cassetteitem_price--administration\") else None\n",
    "            data[\"敷金\"]   = tbody.select_one(\".cassetteitem_price--deposit\").get_text(strip=True) if tbody.select_one(\".cassetteitem_price--deposit\") else None\n",
    "            data[\"礼金\"]   = tbody.select_one(\".cassetteitem_price--gratuity\").get_text(strip=True) if tbody.select_one(\".cassetteitem_price--gratuity\") else None\n",
    "            data[\"間取り\"] = tbody.select_one(\".cassetteitem_madori\").get_text(strip=True) if tbody.select_one(\".cassetteitem_madori\") else None\n",
    "            data[\"面積\"]   = tbody.select_one(\".cassetteitem_menseki\").get_text(strip=True) if tbody.select_one(\".cassetteitem_menseki\") else None\n",
    "\n",
    "            # 物件画像・間取り画像・詳細URLの取得を最後に行う\n",
    "            property_image_element = item.find(class_=\"cassetteitem_object-item\")\n",
    "            data[\"物件画像URL\"] = property_image_element.img[\"rel\"] if property_image_element and property_image_element.img else None\n",
    "\n",
    "            floor_plan_image_element = item.find(class_=\"casssetteitem_other-thumbnail\")\n",
    "            data[\"間取画像URL\"] = floor_plan_image_element.img[\"rel\"] if floor_plan_image_element and floor_plan_image_element.img else None\n",
    "\n",
    "            property_link_element = item.select_one(\"a[href*='/chintai/jnc_']\")\n",
    "            data[\"物件詳細URL\"] = \"https://suumo.jp\" +property_link_element['href'] if property_link_element else None ## 不動産サイトから詳細URLリンクを読み解き作成\n",
    "\n",
    "            all_data.append(data)    \n"
   ]
  },
  {
   "cell_type": "code",
   "execution_count": null,
   "metadata": {},
   "outputs": [],
   "source": [
    "df = pd.DataFrame(all_data)\n",
    "df = df.drop_duplicates() # 重複データの削除\n",
    "df.head(2)"
   ]
  },
  {
   "cell_type": "code",
   "execution_count": null,
   "metadata": {},
   "outputs": [],
   "source": [
    "df.tail(2)"
   ]
  },
  {
   "cell_type": "markdown",
   "metadata": {},
   "source": [
    "### ● Googleスプレッドシートへの書き込み・読み込み。"
   ]
  },
  {
   "cell_type": "code",
   "execution_count": null,
   "metadata": {},
   "outputs": [],
   "source": [
    "# google スプレッドシート 書き込み・読み込み\n",
    "import gspread\n",
    "from google.oauth2 import service_account\n",
    "from google.oauth2.service_account import Credentials\n",
    "from gspread_dataframe import get_as_dataframe\n",
    "from gspread_dataframe import set_with_dataframe"
   ]
  },
  {
   "cell_type": "code",
   "execution_count": null,
   "metadata": {},
   "outputs": [],
   "source": [
    "from dotenv import load_dotenv\n",
    "import os\n",
    "\n",
    "# 環境変数の読み込み\n",
    "load_dotenv()\n",
    "\n",
    "# 環境変数から認証情報を取得\n",
    "SPREADSHEET_ID = \"1_JALV0dH6ROPgKKMgjD_yizCqGzY_woSLxXxAVjaftw\"\n",
    "PRIVATE_KEY_PATH = \"/Users/simon/Realestate_Search/齋藤作業用/realestatesearch-yokopisans160-47c75af30d9f.json\"\n",
    "\n",
    "# 一旦齋藤の情報をベタで入れています。"
   ]
  },
  {
   "cell_type": "code",
   "execution_count": null,
   "metadata": {},
   "outputs": [],
   "source": [
    "PRIVATE_KEY_PATH"
   ]
  },
  {
   "cell_type": "code",
   "execution_count": null,
   "metadata": {},
   "outputs": [],
   "source": [
    "# googleスプレッドシートの認証 jsonファイル読み込み(key値はGCPから取得)\n",
    "SP_CREDENTIAL_FILE = PRIVATE_KEY_PATH\n",
    "\n",
    "scopes = [\n",
    "    'https://www.googleapis.com/auth/spreadsheets',\n",
    "    'https://www.googleapis.com/auth/drive'\n",
    "]\n",
    "\n",
    "credentials = Credentials.from_service_account_file(\n",
    "    SP_CREDENTIAL_FILE,\n",
    "    scopes=scopes\n",
    ")\n",
    "gc = gspread.authorize(credentials)\n",
    "\n",
    "\n",
    "SP_SHEET_KEY = SPREADSHEET_ID # d/〇〇/edit の〇〇部分\n",
    "sh  = gc.open_by_key(SP_SHEET_KEY)"
   ]
  },
  {
   "cell_type": "code",
   "execution_count": null,
   "metadata": {},
   "outputs": [],
   "source": [
    "# 取得した不動産データの書き込み\n",
    "SP_SHEET_wr     = 'tech0' # sheet名\n",
    "worksheet_wr = sh.worksheet(SP_SHEET_wr) # シートのデータ取得\n",
    "set_with_dataframe(worksheet_wr, df)"
   ]
  },
  {
   "cell_type": "code",
   "execution_count": null,
   "metadata": {},
   "outputs": [],
   "source": [
    "# 不動産データの取得\n",
    "SP_SHEET     = 'tech0' # sheet名\n",
    "worksheet = sh.worksheet(SP_SHEET) # シートのデータ取得\n",
    "pre_data  = worksheet.get_all_values()\n",
    "col_name = pre_data[0][:]\n",
    "new_df = pd.DataFrame(pre_data[1:], columns=col_name) # 一段目をカラム、以下データフレームで取得"
   ]
  },
  {
   "cell_type": "code",
   "execution_count": null,
   "metadata": {},
   "outputs": [],
   "source": [
    "new_df.info()"
   ]
  },
  {
   "cell_type": "code",
   "execution_count": null,
   "metadata": {},
   "outputs": [],
   "source": [
    "new_df.head(2)"
   ]
  },
  {
   "cell_type": "code",
   "execution_count": null,
   "metadata": {},
   "outputs": [],
   "source": [
    "new_df['築年数'] = new_df[\"築年数\"].apply( lambda x: 0 if x=='新築' else int(re.split('[築年]', x )[1]) )"
   ]
  },
  {
   "cell_type": "code",
   "execution_count": null,
   "metadata": {},
   "outputs": [],
   "source": [
    "def get_most_floor(x):\n",
    "    if ('階建' not in x) :\n",
    "        return np.nan\n",
    "    elif('B' not in x) :\n",
    "        list = re.findall(r'(\\d+)階建',str(x))\n",
    "        list = map(int, list)\n",
    "        min_value = min(list)\n",
    "        return min_value\n",
    "\n",
    "new_df['構造'] = new_df['構造'].apply(get_most_floor)\n",
    "print(new_df['構造'].head(5))"
   ]
  },
  {
   "cell_type": "code",
   "execution_count": null,
   "metadata": {},
   "outputs": [],
   "source": [
    "def get_floor(x):\n",
    "    if ('階' not in x) :\n",
    "        return np.nan\n",
    "    elif('B' not in x) :\n",
    "        list = re.findall(r'(\\d+)階',str(x))\n",
    "        # time_listを数値型に変換\n",
    "        list = map(int, list)\n",
    "        # time_listの最小値をmin_valueに代入\n",
    "        min_value = min(list)\n",
    "        return min_value\n",
    "    else:\n",
    "        list = re.findall(r'(\\d+)階',str(x))\n",
    "        # time_listを数値型に変換\n",
    "        list = map(int, list)\n",
    "        # time_listの最小値をmin_valueに代入\n",
    "        min_value = -1*min(list)\n",
    "        return min_value\n",
    "\n",
    "new_df['階数'] = new_df['階数'].apply(get_floor)\n",
    "print(new_df['階数'].head(5))"
   ]
  },
  {
   "cell_type": "code",
   "execution_count": null,
   "metadata": {},
   "outputs": [],
   "source": [
    "def change_fee(x):\n",
    "    if ('万円' not in x) :\n",
    "        return np.nan\n",
    "    else:\n",
    "        return float(x.split('万円')[0])\n",
    "\n",
    "new_df['家賃'] = new_df['家賃'].apply(change_fee)\n",
    "new_df['敷金'] = new_df['敷金'].apply(change_fee)\n",
    "new_df['礼金'] = new_df['礼金'].apply(change_fee)"
   ]
  },
  {
   "cell_type": "code",
   "execution_count": null,
   "metadata": {},
   "outputs": [],
   "source": [
    "new_df.head(5)"
   ]
  },
  {
   "cell_type": "code",
   "execution_count": null,
   "metadata": {},
   "outputs": [],
   "source": [
    "def change_fee2(x):\n",
    "    if ('円' not in x) :\n",
    "        return np.nan\n",
    "    else:\n",
    "        return float(x.split('円')[0])\n",
    "\n",
    "\n",
    "new_df['管理費'] = new_df['管理費'].apply(change_fee2)"
   ]
  },
  {
   "cell_type": "code",
   "execution_count": null,
   "metadata": {},
   "outputs": [],
   "source": [
    "new_df['面積'] = new_df['面積'].apply(lambda x: float(x[:-2]))"
   ]
  },
  {
   "cell_type": "code",
   "execution_count": null,
   "metadata": {},
   "outputs": [],
   "source": [
    "new_df['区'] = new_df[\"アドレス\"].apply(lambda x : x[x.find(\"都\")+1:x.find(\"区\")+1])"
   ]
  },
  {
   "cell_type": "code",
   "execution_count": null,
   "metadata": {},
   "outputs": [],
   "source": [
    "new_df['市町'] = new_df[\"アドレス\"].apply(lambda x : x[x.find(\"区\")+1 :-1])"
   ]
  },
  {
   "cell_type": "code",
   "execution_count": null,
   "metadata": {},
   "outputs": [],
   "source": [
    "def split_access(row):\n",
    "    accesses = row['アクセス'].split(', ')\n",
    "    results = {}\n",
    "\n",
    "    for i, access in enumerate(accesses, start=1):\n",
    "        if i > 3:\n",
    "            break  # 最大3つのアクセス情報のみを考慮\n",
    "\n",
    "        parts = access.split('/')\n",
    "        if len(parts) == 2:\n",
    "            line_station, walk = parts\n",
    "            # ' 歩'で分割できるか確認\n",
    "            if ' 歩' in walk:\n",
    "                station, walk_min = walk.split(' 歩')\n",
    "                # 歩数の分の数値だけを抽出\n",
    "                walk_min = int(re.search(r'\\d+', walk_min).group())\n",
    "            else:\n",
    "                station = None\n",
    "                walk_min = None\n",
    "        else:\n",
    "            line_station = access\n",
    "            station = walk_min = None\n",
    "\n",
    "        results[f'アクセス①{i}線路名'] = line_station\n",
    "        results[f'アクセス①{i}駅名'] = station\n",
    "        results[f'アクセス①{i}徒歩(分)'] = walk_min\n",
    "\n",
    "    return pd.Series(results)\n",
    "\n",
    "# 新しい列をデータフレームに適用\n",
    "new_df = new_df.join(new_df.apply(split_access, axis=1))"
   ]
  },
  {
   "cell_type": "code",
   "execution_count": null,
   "metadata": {},
   "outputs": [],
   "source": [
    "new_df.head(2)"
   ]
  },
  {
   "cell_type": "code",
   "execution_count": null,
   "metadata": {},
   "outputs": [],
   "source": [
    "new_df.info()"
   ]
  },
  {
   "cell_type": "code",
   "execution_count": null,
   "metadata": {},
   "outputs": [],
   "source": [
    "# 取得した不動産データの書き込み\n",
    "SP_SHEET_wr     = 'tech0_2' # sheet名\n",
    "worksheet_wr = sh.worksheet(SP_SHEET_wr) # シートのデータ取得\n",
    "set_with_dataframe(worksheet_wr, new_df)"
   ]
  },
  {
   "cell_type": "markdown",
   "metadata": {},
   "source": [
    "### ● 緯度経度情報取得"
   ]
  },
  {
   "cell_type": "code",
   "execution_count": null,
   "metadata": {},
   "outputs": [],
   "source": [
    "# 不動産データの取得\n",
    "SP_SHEET     = 'tech0_2' # sheet名\n",
    "worksheet = sh.worksheet(SP_SHEET) # シートのデータ取得\n",
    "pre_data  = worksheet.get_all_values()\n",
    "col_name = pre_data[0][:]\n",
    "new_df = pd.DataFrame(pre_data[1:], columns=col_name) # 一段目をカラム、以下データフレームで取得"
   ]
  },
  {
   "cell_type": "code",
   "execution_count": null,
   "metadata": {},
   "outputs": [],
   "source": [
    "from geopy.geocoders import Nominatim\n",
    "from geopy.exc import GeocoderTimedOut, GeocoderServiceError\n",
    "import pandas as pd\n",
    "import time\n",
    "\n",
    "# ジオコーダーの初期化\n",
    "geolocator = Nominatim(user_agent=\"your_app_name\", timeout=10)\n",
    "\n",
    "current_count = 0\n",
    "total_count = len(new_df['アドレス'])\n",
    "\n",
    "# 住所から緯度と経度を取得する関数\n",
    "def get_lat_lon(address, retries=3):\n",
    "    global current_count\n",
    "    current_count += 1\n",
    "    \n",
    "    for attempt in range(retries):\n",
    "        try:\n",
    "            location = geolocator.geocode(address)\n",
    "            if location:\n",
    "                print(f\"{current_count}/{total_count} 件目実施中 結果: {location.latitude}, {location.longitude}\")\n",
    "                return location.latitude, location.longitude\n",
    "            else:\n",
    "                print(f\"{current_count}/{total_count} 件目実施中 結果: 住所が見つかりません\")\n",
    "                return None, None\n",
    "        except (GeocoderTimedOut, GeocoderServiceError) as e:\n",
    "            print(f\"Error retrieving location for address {address}: {e}. Retrying ({attempt + 1}/{retries})...\")\n",
    "            time.sleep(1)  # リトライの前に1秒待つ\n",
    "\n",
    "    print(f\"Failed to retrieve location for address {address} after {retries} retries\")\n",
    "    return None, None\n",
    "\n",
    "# 新しい列を作成してデータフレームに追加\n",
    "new_df['緯度'], new_df['経度'] = zip(*new_df['アドレス'].apply(get_lat_lon))\n",
    "\n",
    "# 結果の表示\n",
    "print(new_df.head())\n",
    "\n",
    "# 単一の住所のテスト\n",
    "address = \"東京都江戸川区篠崎町７\"\n",
    "location = geolocator.geocode(address)\n",
    "if location:\n",
    "    print(f\"テストアドレスの結果: {location.latitude}, {location.longitude}\")\n",
    "else:\n",
    "    print(\"テストアドレスの結果: 住所が見つかりません\")"
   ]
  },
  {
   "cell_type": "code",
   "execution_count": null,
   "metadata": {},
   "outputs": [],
   "source": [
    "# 取得した不動産データの書き込み\n",
    "SP_SHEET_wr     = 'tech0_3' # sheet名\n",
    "worksheet_wr = sh.worksheet(SP_SHEET_wr) # シートのデータ取得\n",
    "set_with_dataframe(worksheet_wr, new_df)"
   ]
  }
 ],
 "metadata": {
  "kernelspec": {
   "display_name": "Python 3",
   "language": "python",
   "name": "python3"
  },
  "language_info": {
   "codemirror_mode": {
    "name": "ipython",
    "version": 3
   },
   "file_extension": ".py",
   "mimetype": "text/x-python",
   "name": "python",
   "nbconvert_exporter": "python",
   "pygments_lexer": "ipython3",
   "version": "3.11.5"
  }
 },
 "nbformat": 4,
 "nbformat_minor": 2
}
